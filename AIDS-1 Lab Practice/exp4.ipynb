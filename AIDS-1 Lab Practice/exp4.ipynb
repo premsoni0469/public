{
 "cells": [
  {
   "cell_type": "code",
   "execution_count": 2,
   "id": "778d0870-a3b9-4185-a4b6-c6d547b0f89b",
   "metadata": {},
   "outputs": [],
   "source": [
    "import pandas as pd"
   ]
  },
  {
   "cell_type": "code",
   "execution_count": 4,
   "id": "e16c899b-762d-4ce5-aac0-797b6f7e4623",
   "metadata": {},
   "outputs": [],
   "source": [
    "df = pd.read_csv('C:/Users/Rahul Soni/Downloads/Screen Time Data.csv')"
   ]
  },
  {
   "cell_type": "code",
   "execution_count": 6,
   "id": "d4c23dc7-e404-4b41-b386-b6640ccc2580",
   "metadata": {},
   "outputs": [
    {
     "data": {
      "text/html": [
       "<div>\n",
       "<style scoped>\n",
       "    .dataframe tbody tr th:only-of-type {\n",
       "        vertical-align: middle;\n",
       "    }\n",
       "\n",
       "    .dataframe tbody tr th {\n",
       "        vertical-align: top;\n",
       "    }\n",
       "\n",
       "    .dataframe thead th {\n",
       "        text-align: right;\n",
       "    }\n",
       "</style>\n",
       "<table border=\"1\" class=\"dataframe\">\n",
       "  <thead>\n",
       "    <tr style=\"text-align: right;\">\n",
       "      <th></th>\n",
       "      <th>index</th>\n",
       "      <th>Date</th>\n",
       "      <th>Week Day</th>\n",
       "      <th>Total Screen Time</th>\n",
       "      <th>Social Networking</th>\n",
       "      <th>Reading and Reference</th>\n",
       "      <th>Other</th>\n",
       "      <th>Productivity</th>\n",
       "      <th>Health and Fitness</th>\n",
       "      <th>Entertainment</th>\n",
       "      <th>Creativity</th>\n",
       "      <th>Yoga</th>\n",
       "    </tr>\n",
       "  </thead>\n",
       "  <tbody>\n",
       "    <tr>\n",
       "      <th>0</th>\n",
       "      <td>0</td>\n",
       "      <td>04/17/19</td>\n",
       "      <td>Wednesday</td>\n",
       "      <td>187</td>\n",
       "      <td>89</td>\n",
       "      <td>17</td>\n",
       "      <td>41</td>\n",
       "      <td>22</td>\n",
       "      <td>0</td>\n",
       "      <td>0</td>\n",
       "      <td>0</td>\n",
       "      <td>0</td>\n",
       "    </tr>\n",
       "    <tr>\n",
       "      <th>1</th>\n",
       "      <td>1</td>\n",
       "      <td>04/18/19</td>\n",
       "      <td>Thursday</td>\n",
       "      <td>123</td>\n",
       "      <td>78</td>\n",
       "      <td>17</td>\n",
       "      <td>8</td>\n",
       "      <td>9</td>\n",
       "      <td>0</td>\n",
       "      <td>0</td>\n",
       "      <td>0</td>\n",
       "      <td>0</td>\n",
       "    </tr>\n",
       "    <tr>\n",
       "      <th>2</th>\n",
       "      <td>2</td>\n",
       "      <td>04/19/19</td>\n",
       "      <td>Friday</td>\n",
       "      <td>112</td>\n",
       "      <td>52</td>\n",
       "      <td>40</td>\n",
       "      <td>8</td>\n",
       "      <td>4</td>\n",
       "      <td>0</td>\n",
       "      <td>3</td>\n",
       "      <td>0</td>\n",
       "      <td>0</td>\n",
       "    </tr>\n",
       "    <tr>\n",
       "      <th>3</th>\n",
       "      <td>3</td>\n",
       "      <td>04/20/19</td>\n",
       "      <td>Saturday</td>\n",
       "      <td>101</td>\n",
       "      <td>69</td>\n",
       "      <td>9</td>\n",
       "      <td>38</td>\n",
       "      <td>2</td>\n",
       "      <td>0</td>\n",
       "      <td>3</td>\n",
       "      <td>0</td>\n",
       "      <td>0</td>\n",
       "    </tr>\n",
       "    <tr>\n",
       "      <th>4</th>\n",
       "      <td>4</td>\n",
       "      <td>04/21/19</td>\n",
       "      <td>Sunday</td>\n",
       "      <td>56</td>\n",
       "      <td>35</td>\n",
       "      <td>2</td>\n",
       "      <td>43</td>\n",
       "      <td>3</td>\n",
       "      <td>0</td>\n",
       "      <td>1</td>\n",
       "      <td>1</td>\n",
       "      <td>0</td>\n",
       "    </tr>\n",
       "    <tr>\n",
       "      <th>5</th>\n",
       "      <td>5</td>\n",
       "      <td>04/22/19</td>\n",
       "      <td>Monday</td>\n",
       "      <td>189</td>\n",
       "      <td>68</td>\n",
       "      <td>0</td>\n",
       "      <td>9</td>\n",
       "      <td>3</td>\n",
       "      <td>4</td>\n",
       "      <td>0</td>\n",
       "      <td>0</td>\n",
       "      <td>0</td>\n",
       "    </tr>\n",
       "    <tr>\n",
       "      <th>6</th>\n",
       "      <td>6</td>\n",
       "      <td>04/23/19</td>\n",
       "      <td>Tuesday</td>\n",
       "      <td>158</td>\n",
       "      <td>56</td>\n",
       "      <td>18</td>\n",
       "      <td>41</td>\n",
       "      <td>12</td>\n",
       "      <td>15</td>\n",
       "      <td>0</td>\n",
       "      <td>0</td>\n",
       "      <td>0</td>\n",
       "    </tr>\n",
       "    <tr>\n",
       "      <th>7</th>\n",
       "      <td>7</td>\n",
       "      <td>04/24/19</td>\n",
       "      <td>Wednesday</td>\n",
       "      <td>135</td>\n",
       "      <td>98</td>\n",
       "      <td>3</td>\n",
       "      <td>33</td>\n",
       "      <td>16</td>\n",
       "      <td>0</td>\n",
       "      <td>0</td>\n",
       "      <td>0</td>\n",
       "      <td>0</td>\n",
       "    </tr>\n",
       "    <tr>\n",
       "      <th>8</th>\n",
       "      <td>8</td>\n",
       "      <td>04/25/19</td>\n",
       "      <td>Thursday</td>\n",
       "      <td>52</td>\n",
       "      <td>25</td>\n",
       "      <td>7</td>\n",
       "      <td>3</td>\n",
       "      <td>16</td>\n",
       "      <td>0</td>\n",
       "      <td>0</td>\n",
       "      <td>0</td>\n",
       "      <td>0</td>\n",
       "    </tr>\n",
       "    <tr>\n",
       "      <th>9</th>\n",
       "      <td>9</td>\n",
       "      <td>04/26/19</td>\n",
       "      <td>Friday</td>\n",
       "      <td>198</td>\n",
       "      <td>76</td>\n",
       "      <td>8</td>\n",
       "      <td>29</td>\n",
       "      <td>15</td>\n",
       "      <td>0</td>\n",
       "      <td>32</td>\n",
       "      <td>0</td>\n",
       "      <td>0</td>\n",
       "    </tr>\n",
       "    <tr>\n",
       "      <th>10</th>\n",
       "      <td>10</td>\n",
       "      <td>04/27/19</td>\n",
       "      <td>Saturday</td>\n",
       "      <td>116</td>\n",
       "      <td>75</td>\n",
       "      <td>10</td>\n",
       "      <td>20</td>\n",
       "      <td>5</td>\n",
       "      <td>0</td>\n",
       "      <td>0</td>\n",
       "      <td>0</td>\n",
       "      <td>0</td>\n",
       "    </tr>\n",
       "    <tr>\n",
       "      <th>11</th>\n",
       "      <td>11</td>\n",
       "      <td>04/28/19</td>\n",
       "      <td>Sunday</td>\n",
       "      <td>85</td>\n",
       "      <td>42</td>\n",
       "      <td>22</td>\n",
       "      <td>4</td>\n",
       "      <td>2</td>\n",
       "      <td>0</td>\n",
       "      <td>0</td>\n",
       "      <td>0</td>\n",
       "      <td>0</td>\n",
       "    </tr>\n",
       "    <tr>\n",
       "      <th>12</th>\n",
       "      <td>12</td>\n",
       "      <td>04/29/19</td>\n",
       "      <td>Monday</td>\n",
       "      <td>109</td>\n",
       "      <td>46</td>\n",
       "      <td>8</td>\n",
       "      <td>13</td>\n",
       "      <td>9</td>\n",
       "      <td>15</td>\n",
       "      <td>1</td>\n",
       "      <td>0</td>\n",
       "      <td>1</td>\n",
       "    </tr>\n",
       "    <tr>\n",
       "      <th>13</th>\n",
       "      <td>13</td>\n",
       "      <td>04/30/19</td>\n",
       "      <td>Tuesday</td>\n",
       "      <td>79</td>\n",
       "      <td>40</td>\n",
       "      <td>2</td>\n",
       "      <td>9</td>\n",
       "      <td>12</td>\n",
       "      <td>0</td>\n",
       "      <td>0</td>\n",
       "      <td>0</td>\n",
       "      <td>1</td>\n",
       "    </tr>\n",
       "    <tr>\n",
       "      <th>14</th>\n",
       "      <td>14</td>\n",
       "      <td>05/01/19</td>\n",
       "      <td>Wednesday</td>\n",
       "      <td>127</td>\n",
       "      <td>90</td>\n",
       "      <td>0</td>\n",
       "      <td>10</td>\n",
       "      <td>7</td>\n",
       "      <td>0</td>\n",
       "      <td>0</td>\n",
       "      <td>0</td>\n",
       "      <td>1</td>\n",
       "    </tr>\n",
       "    <tr>\n",
       "      <th>15</th>\n",
       "      <td>15</td>\n",
       "      <td>05/02/19</td>\n",
       "      <td>Thursday</td>\n",
       "      <td>170</td>\n",
       "      <td>60</td>\n",
       "      <td>3</td>\n",
       "      <td>2</td>\n",
       "      <td>11</td>\n",
       "      <td>0</td>\n",
       "      <td>0</td>\n",
       "      <td>0</td>\n",
       "      <td>1</td>\n",
       "    </tr>\n",
       "    <tr>\n",
       "      <th>16</th>\n",
       "      <td>16</td>\n",
       "      <td>05/03/19</td>\n",
       "      <td>Friday</td>\n",
       "      <td>91</td>\n",
       "      <td>64</td>\n",
       "      <td>2</td>\n",
       "      <td>18</td>\n",
       "      <td>5</td>\n",
       "      <td>1</td>\n",
       "      <td>1</td>\n",
       "      <td>2</td>\n",
       "      <td>1</td>\n",
       "    </tr>\n",
       "    <tr>\n",
       "      <th>17</th>\n",
       "      <td>17</td>\n",
       "      <td>05/04/19</td>\n",
       "      <td>Saturday</td>\n",
       "      <td>58</td>\n",
       "      <td>34</td>\n",
       "      <td>4</td>\n",
       "      <td>5</td>\n",
       "      <td>3</td>\n",
       "      <td>0</td>\n",
       "      <td>1</td>\n",
       "      <td>0</td>\n",
       "      <td>1</td>\n",
       "    </tr>\n",
       "    <tr>\n",
       "      <th>18</th>\n",
       "      <td>18</td>\n",
       "      <td>05/05/19</td>\n",
       "      <td>Sunday</td>\n",
       "      <td>133</td>\n",
       "      <td>109</td>\n",
       "      <td>5</td>\n",
       "      <td>1</td>\n",
       "      <td>3</td>\n",
       "      <td>0</td>\n",
       "      <td>0</td>\n",
       "      <td>0</td>\n",
       "      <td>1</td>\n",
       "    </tr>\n",
       "    <tr>\n",
       "      <th>19</th>\n",
       "      <td>19</td>\n",
       "      <td>05/06/19</td>\n",
       "      <td>Monday</td>\n",
       "      <td>144</td>\n",
       "      <td>81</td>\n",
       "      <td>4</td>\n",
       "      <td>5</td>\n",
       "      <td>3</td>\n",
       "      <td>0</td>\n",
       "      <td>0</td>\n",
       "      <td>0</td>\n",
       "      <td>1</td>\n",
       "    </tr>\n",
       "    <tr>\n",
       "      <th>20</th>\n",
       "      <td>20</td>\n",
       "      <td>05/07/19</td>\n",
       "      <td>Tuesday</td>\n",
       "      <td>110</td>\n",
       "      <td>70</td>\n",
       "      <td>5</td>\n",
       "      <td>6</td>\n",
       "      <td>15</td>\n",
       "      <td>0</td>\n",
       "      <td>9</td>\n",
       "      <td>0</td>\n",
       "      <td>1</td>\n",
       "    </tr>\n",
       "    <tr>\n",
       "      <th>21</th>\n",
       "      <td>21</td>\n",
       "      <td>05/08/19</td>\n",
       "      <td>Wednesday</td>\n",
       "      <td>122</td>\n",
       "      <td>53</td>\n",
       "      <td>25</td>\n",
       "      <td>26</td>\n",
       "      <td>15</td>\n",
       "      <td>0</td>\n",
       "      <td>0</td>\n",
       "      <td>0</td>\n",
       "      <td>1</td>\n",
       "    </tr>\n",
       "    <tr>\n",
       "      <th>22</th>\n",
       "      <td>22</td>\n",
       "      <td>05/09/19</td>\n",
       "      <td>Thursday</td>\n",
       "      <td>96</td>\n",
       "      <td>42</td>\n",
       "      <td>15</td>\n",
       "      <td>16</td>\n",
       "      <td>19</td>\n",
       "      <td>0</td>\n",
       "      <td>0</td>\n",
       "      <td>0</td>\n",
       "      <td>1</td>\n",
       "    </tr>\n",
       "    <tr>\n",
       "      <th>23</th>\n",
       "      <td>23</td>\n",
       "      <td>05/10/19</td>\n",
       "      <td>Friday</td>\n",
       "      <td>161</td>\n",
       "      <td>93</td>\n",
       "      <td>13</td>\n",
       "      <td>17</td>\n",
       "      <td>16</td>\n",
       "      <td>1</td>\n",
       "      <td>0</td>\n",
       "      <td>0</td>\n",
       "      <td>1</td>\n",
       "    </tr>\n",
       "    <tr>\n",
       "      <th>24</th>\n",
       "      <td>24</td>\n",
       "      <td>05/11/19</td>\n",
       "      <td>Saturday</td>\n",
       "      <td>58</td>\n",
       "      <td>49</td>\n",
       "      <td>1</td>\n",
       "      <td>2</td>\n",
       "      <td>2</td>\n",
       "      <td>0</td>\n",
       "      <td>0</td>\n",
       "      <td>2</td>\n",
       "      <td>1</td>\n",
       "    </tr>\n",
       "    <tr>\n",
       "      <th>25</th>\n",
       "      <td>25</td>\n",
       "      <td>05/12/19</td>\n",
       "      <td>Sunday</td>\n",
       "      <td>52</td>\n",
       "      <td>28</td>\n",
       "      <td>1</td>\n",
       "      <td>1</td>\n",
       "      <td>6</td>\n",
       "      <td>0</td>\n",
       "      <td>0</td>\n",
       "      <td>1</td>\n",
       "      <td>1</td>\n",
       "    </tr>\n",
       "    <tr>\n",
       "      <th>26</th>\n",
       "      <td>26</td>\n",
       "      <td>05/13/19</td>\n",
       "      <td>Monday</td>\n",
       "      <td>61</td>\n",
       "      <td>37</td>\n",
       "      <td>1</td>\n",
       "      <td>0</td>\n",
       "      <td>4</td>\n",
       "      <td>0</td>\n",
       "      <td>0</td>\n",
       "      <td>0</td>\n",
       "      <td>1</td>\n",
       "    </tr>\n",
       "    <tr>\n",
       "      <th>27</th>\n",
       "      <td>27</td>\n",
       "      <td>05/14/19</td>\n",
       "      <td>Tuesday</td>\n",
       "      <td>88</td>\n",
       "      <td>41</td>\n",
       "      <td>2</td>\n",
       "      <td>7</td>\n",
       "      <td>15</td>\n",
       "      <td>0</td>\n",
       "      <td>0</td>\n",
       "      <td>0</td>\n",
       "      <td>1</td>\n",
       "    </tr>\n",
       "  </tbody>\n",
       "</table>\n",
       "</div>"
      ],
      "text/plain": [
       "    index      Date   Week Day  Total Screen Time   Social Networking  \\\n",
       "0       0  04/17/19  Wednesday                 187                 89   \n",
       "1       1  04/18/19   Thursday                 123                 78   \n",
       "2       2  04/19/19     Friday                 112                 52   \n",
       "3       3  04/20/19   Saturday                 101                 69   \n",
       "4       4  04/21/19     Sunday                  56                 35   \n",
       "5       5  04/22/19     Monday                 189                 68   \n",
       "6       6  04/23/19    Tuesday                 158                 56   \n",
       "7       7  04/24/19  Wednesday                 135                 98   \n",
       "8       8  04/25/19   Thursday                  52                 25   \n",
       "9       9  04/26/19     Friday                 198                 76   \n",
       "10     10  04/27/19   Saturday                 116                 75   \n",
       "11     11  04/28/19     Sunday                  85                 42   \n",
       "12     12  04/29/19     Monday                 109                 46   \n",
       "13     13  04/30/19    Tuesday                  79                 40   \n",
       "14     14  05/01/19  Wednesday                 127                 90   \n",
       "15     15  05/02/19   Thursday                 170                 60   \n",
       "16     16  05/03/19     Friday                  91                 64   \n",
       "17     17  05/04/19   Saturday                  58                 34   \n",
       "18     18  05/05/19     Sunday                 133                109   \n",
       "19     19  05/06/19     Monday                 144                 81   \n",
       "20     20  05/07/19    Tuesday                 110                 70   \n",
       "21     21  05/08/19  Wednesday                 122                 53   \n",
       "22     22  05/09/19   Thursday                  96                 42   \n",
       "23     23  05/10/19     Friday                 161                 93   \n",
       "24     24  05/11/19   Saturday                  58                 49   \n",
       "25     25  05/12/19     Sunday                  52                 28   \n",
       "26     26  05/13/19     Monday                  61                 37   \n",
       "27     27  05/14/19    Tuesday                  88                 41   \n",
       "\n",
       "    Reading and Reference  Other  Productivity  Health and Fitness  \\\n",
       "0                      17     41            22                   0   \n",
       "1                      17      8             9                   0   \n",
       "2                      40      8             4                   0   \n",
       "3                       9     38             2                   0   \n",
       "4                       2     43             3                   0   \n",
       "5                       0      9             3                   4   \n",
       "6                      18     41            12                  15   \n",
       "7                       3     33            16                   0   \n",
       "8                       7      3            16                   0   \n",
       "9                       8     29            15                   0   \n",
       "10                     10     20             5                   0   \n",
       "11                     22      4             2                   0   \n",
       "12                      8     13             9                  15   \n",
       "13                      2      9            12                   0   \n",
       "14                      0     10             7                   0   \n",
       "15                      3      2            11                   0   \n",
       "16                      2     18             5                   1   \n",
       "17                      4      5             3                   0   \n",
       "18                      5      1             3                   0   \n",
       "19                      4      5             3                   0   \n",
       "20                      5      6            15                   0   \n",
       "21                     25     26            15                   0   \n",
       "22                     15     16            19                   0   \n",
       "23                     13     17            16                   1   \n",
       "24                      1      2             2                   0   \n",
       "25                      1      1             6                   0   \n",
       "26                      1      0             4                   0   \n",
       "27                      2      7            15                   0   \n",
       "\n",
       "    Entertainment  Creativity  Yoga  \n",
       "0               0           0     0  \n",
       "1               0           0     0  \n",
       "2               3           0     0  \n",
       "3               3           0     0  \n",
       "4               1           1     0  \n",
       "5               0           0     0  \n",
       "6               0           0     0  \n",
       "7               0           0     0  \n",
       "8               0           0     0  \n",
       "9              32           0     0  \n",
       "10              0           0     0  \n",
       "11              0           0     0  \n",
       "12              1           0     1  \n",
       "13              0           0     1  \n",
       "14              0           0     1  \n",
       "15              0           0     1  \n",
       "16              1           2     1  \n",
       "17              1           0     1  \n",
       "18              0           0     1  \n",
       "19              0           0     1  \n",
       "20              9           0     1  \n",
       "21              0           0     1  \n",
       "22              0           0     1  \n",
       "23              0           0     1  \n",
       "24              0           2     1  \n",
       "25              0           1     1  \n",
       "26              0           0     1  \n",
       "27              0           0     1  "
      ]
     },
     "execution_count": 6,
     "metadata": {},
     "output_type": "execute_result"
    }
   ],
   "source": [
    "df"
   ]
  },
  {
   "cell_type": "code",
   "execution_count": 34,
   "id": "ba903ccc-f87f-444c-945d-77b0d587d077",
   "metadata": {},
   "outputs": [
    {
     "data": {
      "text/html": [
       "<div>\n",
       "<style scoped>\n",
       "    .dataframe tbody tr th:only-of-type {\n",
       "        vertical-align: middle;\n",
       "    }\n",
       "\n",
       "    .dataframe tbody tr th {\n",
       "        vertical-align: top;\n",
       "    }\n",
       "\n",
       "    .dataframe thead th {\n",
       "        text-align: right;\n",
       "    }\n",
       "</style>\n",
       "<table border=\"1\" class=\"dataframe\">\n",
       "  <thead>\n",
       "    <tr style=\"text-align: right;\">\n",
       "      <th></th>\n",
       "      <th>index</th>\n",
       "      <th>Date</th>\n",
       "      <th>Week Day</th>\n",
       "      <th>Total Screen Time</th>\n",
       "      <th>Social Networking</th>\n",
       "      <th>Reading and Reference</th>\n",
       "      <th>Other</th>\n",
       "      <th>Productivity</th>\n",
       "      <th>Health and Fitness</th>\n",
       "      <th>Entertainment</th>\n",
       "      <th>Creativity</th>\n",
       "      <th>Yoga</th>\n",
       "    </tr>\n",
       "  </thead>\n",
       "  <tbody>\n",
       "    <tr>\n",
       "      <th>0</th>\n",
       "      <td>0</td>\n",
       "      <td>04/17/19</td>\n",
       "      <td>Wednesday</td>\n",
       "      <td>187</td>\n",
       "      <td>89</td>\n",
       "      <td>17</td>\n",
       "      <td>41</td>\n",
       "      <td>22</td>\n",
       "      <td>0</td>\n",
       "      <td>0</td>\n",
       "      <td>0</td>\n",
       "      <td>0</td>\n",
       "    </tr>\n",
       "    <tr>\n",
       "      <th>1</th>\n",
       "      <td>1</td>\n",
       "      <td>04/18/19</td>\n",
       "      <td>Thursday</td>\n",
       "      <td>123</td>\n",
       "      <td>78</td>\n",
       "      <td>17</td>\n",
       "      <td>8</td>\n",
       "      <td>9</td>\n",
       "      <td>0</td>\n",
       "      <td>0</td>\n",
       "      <td>0</td>\n",
       "      <td>0</td>\n",
       "    </tr>\n",
       "    <tr>\n",
       "      <th>2</th>\n",
       "      <td>2</td>\n",
       "      <td>04/19/19</td>\n",
       "      <td>Friday</td>\n",
       "      <td>112</td>\n",
       "      <td>52</td>\n",
       "      <td>40</td>\n",
       "      <td>8</td>\n",
       "      <td>4</td>\n",
       "      <td>0</td>\n",
       "      <td>3</td>\n",
       "      <td>0</td>\n",
       "      <td>0</td>\n",
       "    </tr>\n",
       "    <tr>\n",
       "      <th>3</th>\n",
       "      <td>3</td>\n",
       "      <td>04/20/19</td>\n",
       "      <td>Saturday</td>\n",
       "      <td>101</td>\n",
       "      <td>69</td>\n",
       "      <td>9</td>\n",
       "      <td>38</td>\n",
       "      <td>2</td>\n",
       "      <td>0</td>\n",
       "      <td>3</td>\n",
       "      <td>0</td>\n",
       "      <td>0</td>\n",
       "    </tr>\n",
       "    <tr>\n",
       "      <th>4</th>\n",
       "      <td>4</td>\n",
       "      <td>04/21/19</td>\n",
       "      <td>Sunday</td>\n",
       "      <td>56</td>\n",
       "      <td>35</td>\n",
       "      <td>2</td>\n",
       "      <td>43</td>\n",
       "      <td>3</td>\n",
       "      <td>0</td>\n",
       "      <td>1</td>\n",
       "      <td>1</td>\n",
       "      <td>0</td>\n",
       "    </tr>\n",
       "  </tbody>\n",
       "</table>\n",
       "</div>"
      ],
      "text/plain": [
       "   index      Date   Week Day  Total Screen Time   Social Networking  \\\n",
       "0      0  04/17/19  Wednesday                 187                 89   \n",
       "1      1  04/18/19   Thursday                 123                 78   \n",
       "2      2  04/19/19     Friday                 112                 52   \n",
       "3      3  04/20/19   Saturday                 101                 69   \n",
       "4      4  04/21/19     Sunday                  56                 35   \n",
       "\n",
       "   Reading and Reference  Other  Productivity  Health and Fitness  \\\n",
       "0                     17     41            22                   0   \n",
       "1                     17      8             9                   0   \n",
       "2                     40      8             4                   0   \n",
       "3                      9     38             2                   0   \n",
       "4                      2     43             3                   0   \n",
       "\n",
       "   Entertainment  Creativity  Yoga  \n",
       "0              0           0     0  \n",
       "1              0           0     0  \n",
       "2              3           0     0  \n",
       "3              3           0     0  \n",
       "4              1           1     0  "
      ]
     },
     "execution_count": 34,
     "metadata": {},
     "output_type": "execute_result"
    }
   ],
   "source": [
    "df.head()"
   ]
  },
  {
   "cell_type": "code",
   "execution_count": 36,
   "id": "54251e67-cf28-497a-8526-958654e6a4b4",
   "metadata": {},
   "outputs": [
    {
     "data": {
      "text/plain": [
       "index                    0\n",
       "Date                     0\n",
       "Week Day                 0\n",
       "Total Screen Time        0\n",
       "Social Networking        0\n",
       "Reading and Reference    0\n",
       "Other                    0\n",
       "Productivity             0\n",
       "Health and Fitness       0\n",
       "Entertainment            0\n",
       "Creativity               0\n",
       "Yoga                     0\n",
       "dtype: int64"
      ]
     },
     "execution_count": 36,
     "metadata": {},
     "output_type": "execute_result"
    }
   ],
   "source": [
    "df.isnull().sum()"
   ]
  },
  {
   "cell_type": "code",
   "execution_count": 38,
   "id": "b2b37386-35cf-434e-a67d-1c1144b67eec",
   "metadata": {},
   "outputs": [
    {
     "data": {
      "text/plain": [
       "0"
      ]
     },
     "execution_count": 38,
     "metadata": {},
     "output_type": "execute_result"
    }
   ],
   "source": [
    "df.duplicated().sum()"
   ]
  },
  {
   "cell_type": "code",
   "execution_count": 40,
   "id": "dce58ffb-fdb1-43e0-84a5-d69b5a321a81",
   "metadata": {},
   "outputs": [],
   "source": [
    "df.drop_duplicates(inplace=True)\n",
    "df.dropna(inplace=True)"
   ]
  },
  {
   "cell_type": "code",
   "execution_count": 10,
   "id": "971c0402-63da-4ff1-8f22-5e311b3ddf92",
   "metadata": {},
   "outputs": [],
   "source": [
    "import seaborn as sns"
   ]
  },
  {
   "cell_type": "code",
   "execution_count": 42,
   "id": "221b16b6-0307-4249-938e-845b7a5a817b",
   "metadata": {},
   "outputs": [
    {
     "data": {
      "text/plain": [
       "<Axes: xlabel='Productivity', ylabel='Count'>"
      ]
     },
     "execution_count": 42,
     "metadata": {},
     "output_type": "execute_result"
    },
    {
     "data": {
      "image/png": "[encoded data removed]",
      "text/plain": [
       "<Figure size 640x480 with 1 Axes>"
      ]
     },
     "metadata": {},
     "output_type": "display_data"
    }
   ],
   "source": [
    "sns.histplot(df['Productivity'], bins=80, kde=True)"
   ]
  },
  {
   "cell_type": "code",
   "execution_count": 44,
   "id": "8d915612-f5a4-4d7f-a0cc-754f8fea1333",
   "metadata": {},
   "outputs": [
    {
     "data": {
      "image/png": "[encoded data removed]",
      "text/plain": [
       "<Figure size 640x480 with 1 Axes>"
      ]
     },
     "execution_count": 44,
     "metadata": {},
     "output_type": "execute_result"
    },
    {
     "data": {
      "image/png": "[encoded data removed]",
      "text/plain": [
       "<Figure size 640x480 with 1 Axes>"
      ]
     },
     "metadata": {},
     "output_type": "display_data"
    }
   ],
   "source": [
    "import statsmodels.api as sm\n",
    "import scipy.stats as stats\n",
    "sm.qqplot(df['Productivity'], line='45', fit=True, dist=stats.norm)"
   ]
  },
  {
   "cell_type": "code",
   "execution_count": 46,
   "id": "0dac8d0a-e72b-41c3-9b50-418818a221fd",
   "metadata": {},
   "outputs": [
    {
     "data": {
      "image/png": "[encoded data removed]",
      "text/plain": [
       "<Figure size 640x480 with 1 Axes>"
      ]
     },
     "execution_count": 46,
     "metadata": {},
     "output_type": "execute_result"
    },
    {
     "data": {
      "image/png": "[encoded data removed]",
      "text/plain": [
       "<Figure size 640x480 with 1 Axes>"
      ]
     },
     "metadata": {},
     "output_type": "display_data"
    }
   ],
   "source": [
    "sm.qqplot(df['Productivity'], line='45', fit=True)"
   ]
  },
  {
   "cell_type": "code",
   "execution_count": 48,
   "id": "9ed77f15-a635-4322-9860-fb838561cf52",
   "metadata": {},
   "outputs": [
    {
     "data": {
      "text/plain": [
       "ShapiroResult(statistic=0.8922788988362809, pvalue=0.007579984646856594)"
      ]
     },
     "execution_count": 48,
     "metadata": {},
     "output_type": "execute_result"
    }
   ],
   "source": [
    "from scipy.stats import shapiro\n",
    "\n",
    "shapiro(df['Productivity'])"
   ]
  },
  {
   "cell_type": "code",
   "execution_count": 50,
   "id": "482668df-6dac-48d6-b482-b39d3be4fdb3",
   "metadata": {},
   "outputs": [
    {
     "data": {
      "text/plain": [
       "<Axes: xlabel='Productivity', ylabel='Count'>"
      ]
     },
     "execution_count": 50,
     "metadata": {},
     "output_type": "execute_result"
    },
    {
     "data": {
      "image/png": "[encoded data removed]",
      "text/plain": [
       "<Figure size 640x480 with 1 Axes>"
      ]
     },
     "metadata": {},
     "output_type": "display_data"
    }
   ],
   "source": [
    "import seaborn as sb\n",
    "\n",
    "sb.histplot(df['Productivity'], bins=60, kde=True)"
   ]
  },
  {
   "cell_type": "code",
   "execution_count": 59,
   "id": "14170162-4bd7-49a0-a29c-a4b3744d1e32",
   "metadata": {},
   "outputs": [
    {
     "name": "stdout",
     "output_type": "stream",
     "text": [
      "5.280584154964437 0.0713404295800382\n"
     ]
    }
   ],
   "source": [
    "from scipy.stats import normaltest\n",
    "\n",
    "stat, p = normaltest(df['Productivity'])\n",
    "\n",
    "print(stat, p)"
   ]
  },
  {
   "cell_type": "code",
   "execution_count": 61,
   "id": "6c9fb56a-39e3-4201-9fec-ecd7b6bd7382",
   "metadata": {},
   "outputs": [
    {
     "name": "stdout",
     "output_type": "stream",
     "text": [
      "Sample looks Gaussian (H0 accepted)\n"
     ]
    }
   ],
   "source": [
    "alpha = 0.05\n",
    "\n",
    "if p > alpha:\n",
    "    print(\"Sample looks Gaussian (H0 accepted)\")\n",
    "else:\n",
    "    print(\"Sample doesn't looks Gaussian (H0 rejected)\")\n",
    "    "
   ]
  },
  {
   "cell_type": "code",
   "execution_count": 63,
   "id": "f33cc913-1a23-4dad-bb71-96e54c165eb9",
   "metadata": {},
   "outputs": [
    {
     "data": {
      "text/plain": [
       "NormaltestResult(statistic=5.280584154964437, pvalue=0.0713404295800382)"
      ]
     },
     "execution_count": 63,
     "metadata": {},
     "output_type": "execute_result"
    }
   ],
   "source": [
    "normaltest(df['Productivity'])"
   ]
  },
  {
   "cell_type": "code",
   "execution_count": 116,
   "id": "a8ec96b7-f416-44cd-a2c0-e0be5105993c",
   "metadata": {},
   "outputs": [
    {
     "name": "stdout",
     "output_type": "stream",
     "text": [
      "AndersonResult(statistic=1.1570856034880883, critical_values=array([0.518, 0.59 , 0.708, 0.826, 0.983]), significance_level=array([15. , 10. ,  5. ,  2.5,  1. ]), fit_result=  params: FitParams(loc=9.071428571428571, scale=6.097531810486451)\n",
      " success: True\n",
      " message: '`anderson` successfully fit the distribution to the data.')\n"
     ]
    }
   ],
   "source": [
    "from scipy.stats import anderson\n",
    "\n",
    "result = anderson(df['Productivity'])\n",
    "print(result)"
   ]
  },
  {
   "cell_type": "code",
   "execution_count": 118,
   "id": "13b8f86e-13ef-4e0a-93b7-2251e362f967",
   "metadata": {},
   "outputs": [
    {
     "name": "stdout",
     "output_type": "stream",
     "text": [
      "Data doesn't look normal (reject H0)\n",
      "Data doesn't look normal (reject H0)\n",
      "Data doesn't look normal (reject H0)\n",
      "Data doesn't look normal (reject H0)\n",
      "Data doesn't look normal (reject H0)\n"
     ]
    }
   ],
   "source": [
    "for i in range(len(result.critical_values)):\n",
    "    sl, cv = result.significance_level[i], result.critical_values[i]\n",
    "    if result.statistic < result.critical_values[i]:\n",
    "        print(\"Data looks normal (accept H0)\")\n",
    "    else:\n",
    "        print(\"Data doesn't look normal (reject H0)\")"
   ]
  },
  {
   "cell_type": "code",
   "execution_count": 120,
   "id": "729b3435-0e23-48b4-b3c7-b4dc77cde29f",
   "metadata": {},
   "outputs": [
    {
     "data": {
      "text/plain": [
       "<Axes: xlabel='Total Screen Time ', ylabel='Count'>"
      ]
     },
     "execution_count": 120,
     "metadata": {},
     "output_type": "execute_result"
    },
    {
     "data": {
      "image/png": "[encoded data removed]",
      "text/plain": [
       "<Figure size 640x480 with 1 Axes>"
      ]
     },
     "metadata": {},
     "output_type": "display_data"
    }
   ],
   "source": [
    "sb.histplot(df['Total Screen Time '], bins = 80, kde=True)"
   ]
  },
  {
   "cell_type": "code",
   "execution_count": 122,
   "id": "a1b51470-5963-4105-a32b-dd54489a0166",
   "metadata": {},
   "outputs": [
    {
     "name": "stdout",
     "output_type": "stream",
     "text": [
      "AndersonResult(statistic=0.3268223690655816, critical_values=array([0.518, 0.59 , 0.708, 0.826, 0.983]), significance_level=array([15. , 10. ,  5. ,  2.5,  1. ]), fit_result=  params: FitParams(loc=113.25, scale=43.562322320164775)\n",
      " success: True\n",
      " message: '`anderson` successfully fit the distribution to the data.')\n"
     ]
    }
   ],
   "source": [
    "result2 = anderson(df['Total Screen Time '])\n",
    "print(result2)"
   ]
  },
  {
   "cell_type": "code",
   "execution_count": 124,
   "id": "8ffdab79-ccb4-46ec-9be7-7bf0df4a5b8e",
   "metadata": {},
   "outputs": [
    {
     "name": "stdout",
     "output_type": "stream",
     "text": [
      "Data looks normal (accept H0)\n",
      "Data looks normal (accept H0)\n",
      "Data looks normal (accept H0)\n",
      "Data looks normal (accept H0)\n",
      "Data looks normal (accept H0)\n"
     ]
    }
   ],
   "source": [
    "for i in range(len(result2.critical_values)):\n",
    "    sl, cv = result2.significance_level[i], result2.critical_values[i]\n",
    "    if result2.statistic < result2.critical_values[i]:\n",
    "        print(\"Data looks normal (accept H0)\")\n",
    "    else:\n",
    "        print(\"Data doesn't look normal (reject H0)\")"
   ]
  },
  {
   "cell_type": "code",
   "execution_count": null,
   "id": "567067b6-48c4-459f-952a-c1844e286079",
   "metadata": {},
   "outputs": [],
   "source": []
  }
 ],
 "metadata": {
  "kernelspec": {
   "display_name": "Python 3 (ipykernel)",
   "language": "python",
   "name": "python3"
  },
  "language_info": {
   "codemirror_mode": {
    "name": "ipython",
    "version": 3
   },
   "file_extension": ".py",
   "mimetype": "text/x-python",
   "name": "python",
   "nbconvert_exporter": "python",
   "pygments_lexer": "ipython3",
   "version": "3.12.7"
  }
 },
 "nbformat": 4,
 "nbformat_minor": 5
}
